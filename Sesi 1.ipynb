{
 "cells": [
  {
   "cell_type": "markdown",
   "id": "e36fd49c-d75a-4740-bbc7-a28085c9a586",
   "metadata": {},
   "source": [
    "Welcome to Data Science Career Acceleration!\n",
    "\n",
    "Week 1 Sesi 1 - Intro to Pyhton"
   ]
  },
  {
   "cell_type": "code",
   "execution_count": 6,
   "id": "7e2c90fc-7985-48c8-9903-33d3adb0c905",
   "metadata": {},
   "outputs": [
    {
     "name": "stdout",
     "output_type": "stream",
     "text": [
      "55\n",
      "15\n",
      "40\n"
     ]
    }
   ],
   "source": [
    "print(25 + 30)\n",
    "print(25 - 10)\n",
    "print((25 * 2) - 10)"
   ]
  },
  {
   "cell_type": "code",
   "execution_count": 9,
   "id": "d25c522b-3ec6-45f8-a4b9-09ae921954ea",
   "metadata": {},
   "outputs": [
    {
     "name": "stdout",
     "output_type": "stream",
     "text": [
      "1\n",
      "2\n",
      "3\n",
      "1 2 3\n"
     ]
    }
   ],
   "source": [
    "x, y, z = 1, 2, 3\n",
    "print(x)\n",
    "print(y)\n",
    "print(z)\n",
    "print (x, y, z)"
   ]
  },
  {
   "cell_type": "code",
   "execution_count": 12,
   "id": "716a8bc7-529d-4534-9a66-9f4f39bfaf4b",
   "metadata": {},
   "outputs": [
    {
     "name": "stdout",
     "output_type": "stream",
     "text": [
      "2021\n",
      "2020\n",
      "2021 2020\n"
     ]
    }
   ],
   "source": [
    "current_year = 2021\n",
    "last_year = 2020\n",
    "print(current_year)\n",
    "print(last_year)\n",
    "print(current_year, last_year)"
   ]
  },
  {
   "cell_type": "code",
   "execution_count": 22,
   "id": "ef8c9a9f-3dd3-44c2-99c1-6e616b3694ce",
   "metadata": {},
   "outputs": [
    {
     "name": "stdout",
     "output_type": "stream",
     "text": [
      "30000\n",
      "60000\n",
      "20000\n"
     ]
    }
   ],
   "source": [
    "my_population = 10000\n",
    "my_population = my_population + 20000\n",
    "print(my_population)\n",
    "\n",
    "my_population *= 2\n",
    "print(my_population)\n",
    "\n",
    "my_population //= 3\n",
    "print(my_population)"
   ]
  },
  {
   "cell_type": "code",
   "execution_count": 23,
   "id": "4f108099-ef30-4dad-876f-3ca44cb32bd2",
   "metadata": {},
   "outputs": [
    {
     "data": {
      "text/plain": [
       "True"
      ]
     },
     "execution_count": 23,
     "metadata": {},
     "output_type": "execute_result"
    }
   ],
   "source": [
    "3 != 5"
   ]
  },
  {
   "cell_type": "code",
   "execution_count": 27,
   "id": "38a91773-9780-4bce-84c5-ae6ba178760f",
   "metadata": {},
   "outputs": [
    {
     "name": "stdout",
     "output_type": "stream",
     "text": [
      "tipe data dari 2021 : <class 'int'>\n",
      "tipe data dari 2020 : <class 'int'>\n"
     ]
    }
   ],
   "source": [
    "print(\"tipe data dari\", current_year, \":\", type(current_year))\n",
    "print(\"tipe data dari\", last_year, \":\", type(last_year))"
   ]
  },
  {
   "cell_type": "code",
   "execution_count": 31,
   "id": "42939831-6d7d-4d41-a0a3-1226c72f8707",
   "metadata": {},
   "outputs": [
    {
     "name": "stdout",
     "output_type": "stream",
     "text": [
      "20.0 5\n"
     ]
    }
   ],
   "source": [
    "x_int = 20\n",
    "y_float = 5.75\n",
    "\n",
    "x_float = float(x_int)\n",
    "y_int = int(y_float)\n",
    "\n",
    "print(x_float, y_int)"
   ]
  },
  {
   "cell_type": "code",
   "execution_count": 33,
   "id": "9dc6df2d-b23b-4bb4-b16a-1b08c88f4d09",
   "metadata": {},
   "outputs": [
    {
     "name": "stdout",
     "output_type": "stream",
     "text": [
      "Selamat datang di Bitlabs!\n",
      "\"Arif, Cepat kesini!\", ujar ibunya.\n",
      "Mungkin al'ad sudah tidak sanggup.\n",
      "\n",
      "Tapi, apa mungkin?\n"
     ]
    }
   ],
   "source": [
    "bootcamp = \"Selamat datang di Bitlabs!\"\n",
    "novel = '\"Arif, Cepat kesini!\", ujar ibunya.'\n",
    "text = \"\"\"Mungkin al'ad sudah tidak sanggup.\n",
    "\n",
    "Tapi, apa mungkin?\"\"\"\n",
    "\n",
    "print(bootcamp)\n",
    "print(novel)\n",
    "print(text)\n"
   ]
  },
  {
   "cell_type": "code",
   "execution_count": 34,
   "id": "2a9044b4-533a-40fa-9916-5d5c8d908015",
   "metadata": {},
   "outputs": [
    {
     "name": "stdout",
     "output_type": "stream",
     "text": [
      "False\n"
     ]
    }
   ],
   "source": [
    "print (5 < 3)"
   ]
  },
  {
   "cell_type": "code",
   "execution_count": 36,
   "id": "71409ce0-e0b8-4492-a661-bc6525713b27",
   "metadata": {},
   "outputs": [
    {
     "data": {
      "text/plain": [
       "(1, 3)"
      ]
     },
     "execution_count": 36,
     "metadata": {},
     "output_type": "execute_result"
    }
   ],
   "source": [
    "x, z"
   ]
  },
  {
   "cell_type": "code",
   "execution_count": 37,
   "id": "801bbaf0-f499-4ed0-a693-b287e2f8de95",
   "metadata": {},
   "outputs": [
    {
     "name": "stdout",
     "output_type": "stream",
     "text": [
      "True\n"
     ]
    }
   ],
   "source": [
    "print(bool(\"False\"))"
   ]
  },
  {
   "cell_type": "code",
   "execution_count": 23,
   "id": "55a16eb1-464f-41f4-b4e2-075a36eae67e",
   "metadata": {},
   "outputs": [
    {
     "name": "stdout",
     "output_type": "stream",
     "text": [
      "Apa mungkin, kita diam saja melihat ain diperlakukan seperti itu?\", tanya usop.\n",
      "\n",
      "ihsan pun diam, berpikir.\n"
     ]
    }
   ],
   "source": [
    "fix = \"\"\"Apa mungkin, kita diam saja melihat ain diperlakukan seperti itu?\", tanya usop.\n",
    "\n",
    "ihsan pun diam, berpikir.\"\"\"\n",
    "\n",
    "print(fix)"
   ]
  },
  {
   "cell_type": "code",
   "execution_count": 27,
   "id": "0def9c96-5afb-4a86-8e42-3fc264866631",
   "metadata": {},
   "outputs": [
    {
     "name": "stdout",
     "output_type": "stream",
     "text": [
      "False\n",
      "False\n",
      "False\n",
      "1\n",
      "1\n",
      "False\n"
     ]
    }
   ],
   "source": [
    "p = q = 1\n",
    "\n",
    "p_and_notq = p and not q\n",
    "notp_and_q = not p and q\n",
    "notp_and_notq = not p and not q\n",
    "\n",
    "p_or_notq = (p or not q)\n",
    "notp_or_q = (not p or q)\n",
    "notp_or_notq = not p or not p\n",
    "\n",
    "print(p_and_notq)\n",
    "print(notp_and_q)\n",
    "print(notp_and_notq)\n",
    "\n",
    "print(p_or_notq)\n",
    "print(notp_or_q)\n",
    "print(notp_or_notq)"
   ]
  },
  {
   "cell_type": "code",
   "execution_count": 24,
   "id": "801b9943-d924-4937-9dd9-43a05e302619",
   "metadata": {},
   "outputs": [
    {
     "name": "stdout",
     "output_type": "stream",
     "text": [
      "1: False\n",
      "2: True\n"
     ]
    }
   ],
   "source": [
    "kamu = True\n",
    "aku = False\n",
    "\n",
    "print(\"1:\", kamu and aku)\n",
    "print(\"2:\", kamu or aku)"
   ]
  },
  {
   "cell_type": "code",
   "execution_count": 15,
   "id": "dc7f1a01-63b3-4f43-80fd-8c0032761974",
   "metadata": {},
   "outputs": [
    {
     "name": "stdout",
     "output_type": "stream",
     "text": [
      "1\n"
     ]
    }
   ],
   "source": [
    "tomorrow = 1\n",
    "\n",
    "print(tomorrow)"
   ]
  },
  {
   "cell_type": "code",
   "execution_count": 10,
   "id": "ab5bf722-4cd7-49bd-8218-2ef95fb39de7",
   "metadata": {},
   "outputs": [
    {
     "name": "stdout",
     "output_type": "stream",
     "text": [
      "22.0 22\n"
     ]
    }
   ],
   "source": [
    "x_int = 22\n",
    "y_float = 22.9\n",
    "\n",
    "x_float = float(x_int)\n",
    "y_int = int(y_float)\n",
    "\n",
    "print(x_float, y_int)"
   ]
  },
  {
   "cell_type": "code",
   "execution_count": 12,
   "id": "3a22b1de-b2c9-4c2e-a628-629d56386582",
   "metadata": {},
   "outputs": [
    {
     "name": "stdout",
     "output_type": "stream",
     "text": [
      "10000\n"
     ]
    }
   ],
   "source": [
    "people = 2000\n",
    "people = people + 3000\n",
    "people = people * 2\n",
    "\n",
    "print(people)"
   ]
  },
  {
   "cell_type": "code",
   "execution_count": 34,
   "id": "62726c1d-9776-4b2b-abf7-e7ab394464eb",
   "metadata": {},
   "outputs": [
    {
     "name": "stdout",
     "output_type": "stream",
     "text": [
      "<class 'bool'> ()\n"
     ]
    }
   ],
   "source": []
  },
  {
   "cell_type": "code",
   "execution_count": 37,
   "id": "6d0cfaeb-c72c-4267-9276-433c3db17f1a",
   "metadata": {},
   "outputs": [
    {
     "name": "stdout",
     "output_type": "stream",
     "text": [
      "Pergi dugem malam minggu\n"
     ]
    }
   ],
   "source": [
    "dugem = \"Pergi dugem malam minggu\"\n",
    "\n",
    "print(dugem)"
   ]
  },
  {
   "cell_type": "code",
   "execution_count": null,
   "id": "65c38353-2a80-4867-b418-03877349de2c",
   "metadata": {},
   "outputs": [],
   "source": []
  },
  {
   "cell_type": "code",
   "execution_count": null,
   "id": "222b7592-7d7d-47a4-a5bd-632230dfd406",
   "metadata": {},
   "outputs": [],
   "source": []
  }
 ],
 "metadata": {
  "kernelspec": {
   "display_name": "Python 3 (ipykernel)",
   "language": "python",
   "name": "python3"
  },
  "language_info": {
   "codemirror_mode": {
    "name": "ipython",
    "version": 3
   },
   "file_extension": ".py",
   "mimetype": "text/x-python",
   "name": "python",
   "nbconvert_exporter": "python",
   "pygments_lexer": "ipython3",
   "version": "3.9.7"
  }
 },
 "nbformat": 4,
 "nbformat_minor": 5
}
