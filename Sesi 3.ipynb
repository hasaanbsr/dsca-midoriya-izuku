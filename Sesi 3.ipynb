{
 "cells": [
  {
   "cell_type": "code",
   "execution_count": 1,
   "id": "bac6e468-c3ca-46f8-958b-45307cce03fb",
   "metadata": {},
   "outputs": [
    {
     "name": "stdout",
     "output_type": "stream",
     "text": [
      "Starting from index: 0\n",
      "Current index: 0\n",
      "Names[0]: Jajang\n",
      "Current index: 1\n",
      "Names[1]: Asep\n",
      "Current index: 2\n",
      "Names[2]: Doni\n",
      "Current index: 3\n",
      "Names[3]: Dono\n",
      "Current index: 4\n",
      "Names[4]: Maman\n",
      "Current index: 5\n",
      "Names[5]: Dodi\n",
      "Current index: 6\n",
      "Names[6]: Beni\n"
     ]
    }
   ],
   "source": [
    "#PERULANGAN# WHILE\n",
    "\n",
    "names = [\"Jajang\", \"Asep\", \"Doni\", \"Dono\", \"Maman\", \"Dodi\", \"Beni\"]\n",
    "\n",
    "num_names = len(names)\n",
    "index = 0\n",
    "\n",
    "print(\"Starting from index:\", index)\n",
    "\n",
    "while index < num_names:\n",
    "    print(\"Current index:\", index)\n",
    "    print(\"Names[{}]: {}\".format(index, names[index]))\n",
    "    index += 1\n"
   ]
  },
  {
   "cell_type": "code",
   "execution_count": 4,
   "id": "c1b4c5ad-d745-43e7-86a4-3380fa8e6359",
   "metadata": {},
   "outputs": [
    {
     "name": "stdout",
     "output_type": "stream",
     "text": [
      "Jajang\n",
      "Asep\n",
      "Doni\n",
      "Dono\n",
      "Maman\n",
      "Dodi\n",
      "Beni\n",
      "J\n",
      "a\n",
      "j\n",
      "a\n",
      "n\n",
      "g\n"
     ]
    }
   ],
   "source": [
    "for name in names:\n",
    "    print(name)\n",
    "    \n",
    "for char in \"Jajang\":\n",
    "    print(char)"
   ]
  },
  {
   "cell_type": "code",
   "execution_count": 8,
   "id": "338970d6-cd9f-4624-8e90-bf1fe7512a8b",
   "metadata": {},
   "outputs": [
    {
     "name": "stdout",
     "output_type": "stream",
     "text": [
      "Jajang\n",
      "a\n",
      "j\n",
      "a\n",
      "n\n",
      "g\n",
      "\n",
      "Asep\n",
      "s\n",
      "e\n",
      "p\n",
      "\n",
      "Doni\n",
      "o\n",
      "n\n",
      "i\n",
      "\n",
      "Dono\n",
      "o\n",
      "n\n",
      "o\n",
      "\n",
      "Maman\n",
      "a\n",
      "m\n",
      "a\n",
      "n\n",
      "\n",
      "Dodi\n",
      "o\n",
      "d\n",
      "i\n",
      "\n",
      "Beni\n",
      "e\n",
      "n\n",
      "i\n",
      "\n"
     ]
    }
   ],
   "source": [
    "for name in names:\n",
    "    print(name)\n",
    "    for char in name[1:]:\n",
    "        print(char)\n",
    "    print()"
   ]
  },
  {
   "cell_type": "code",
   "execution_count": 13,
   "id": "bab29e1e-df04-4a69-a047-c10133f65ea2",
   "metadata": {},
   "outputs": [
    {
     "name": "stdout",
     "output_type": "stream",
     "text": [
      "[('bananas', 20), ('mattresses', 25), ('dog kennels', 40), ('computer', 95), ('cheeses', 5), ('drugs', 5)]\n"
     ]
    }
   ],
   "source": [
    "manifesto = [\n",
    "    (\"bananas\", 20),\n",
    "    (\"mattresses\", 25),\n",
    "    (\"dog kennels\", 40),\n",
    "    (\"computer\", 95),\n",
    "    (\"cheeses\", 5),\n",
    "    (\"drugs\", 5)\n",
    "]\n",
    "cargo = []\n",
    "total_weight = 0\n",
    "max_capacity = 100\n",
    "print(manifesto)"
   ]
  },
  {
   "cell_type": "code",
   "execution_count": 9,
   "id": "6391cb50-f1a2-4a42-8c3b-ef67f707fefe",
   "metadata": {},
   "outputs": [
    {
     "name": "stdout",
     "output_type": "stream",
     "text": [
      "2\n",
      "3\n"
     ]
    }
   ],
   "source": [
    "location = (2, 3)\n",
    "loc_a, loc_b = location\n",
    "print(loc_a)\n",
    "print(loc_b)"
   ]
  },
  {
   "cell_type": "code",
   "execution_count": 14,
   "id": "336a413b-ee60-4f91-a76c-902e85911e05",
   "metadata": {},
   "outputs": [
    {
     "name": "stdout",
     "output_type": "stream",
     "text": [
      "item: bananas\n",
      "weight: 20\n",
      "\n",
      "item: mattresses\n",
      "weight: 25\n",
      "\n",
      "item: dog kennels\n",
      "weight: 40\n",
      "\n",
      "item: computer\n",
      "weight: 95\n",
      "\n",
      "item: cheeses\n",
      "weight: 5\n",
      "\n",
      "item: drugs\n",
      "weight: 5\n",
      "\n"
     ]
    }
   ],
   "source": [
    "for item, weight in manifesto:\n",
    "    print(\"item:\", item)\n",
    "    print(\"weight:\", weight)\n",
    "    print()"
   ]
  },
  {
   "cell_type": "code",
   "execution_count": 25,
   "id": "c90ab25b-a490-43fe-af15-dd8e34aa97d5",
   "metadata": {},
   "outputs": [
    {
     "name": "stdout",
     "output_type": "stream",
     "text": [
      "[('bananas', 20), ('mattresses', 25), ('dog kennels', 40), ('computer', 95), ('cheeses', 5), ('drugs', 5)]\n",
      "current weight: 0\n",
      "- Adding bananas to cargo (weight: 20)\n",
      "current weight: 20\n",
      "- Adding mattresses to cargo (weight: 25)\n",
      "current weight: 45\n",
      "- Adding dog kennels to cargo (weight: 40)\n",
      "current weight: 85\n",
      ":: Skipping computer (weight: 95)\n",
      "current weight: 85\n",
      "- Adding cheeses to cargo (weight: 5)\n",
      "current weight: 90\n",
      "- Adding drugs to cargo (weight: 5)\n",
      "\n",
      "Final weight: 95\n",
      "Items in cargo: ['bananas', 'mattresses', 'dog kennels', 'cheeses', 'drugs']\n"
     ]
    }
   ],
   "source": [
    "cargo = []\n",
    "total_weight = 0\n",
    "max_capacity = 100\n",
    "print(manifesto)\n",
    "\n",
    "for cargo_name, cargo_weight in manifesto:\n",
    "    print(\"current weight:\", total_weight)\n",
    "    if total_weight >= max_capacity:\n",
    "        print(\"Stop loading. Total weight:\", total_weight)\n",
    "        break\n",
    "\n",
    "    if cargo_weight + total_weight > 100:\n",
    "        print(\":: Skipping {} (weight: {})\".format(cargo_name, cargo_weight))\n",
    "        continue\n",
    "\n",
    "    print(\"- Adding {} to cargo (weight: {})\".format(cargo_name, cargo_weight))\n",
    "    cargo.append(cargo_name)\n",
    "    total_weight += cargo_weight\n",
    "    \n",
    "\n",
    "print(\"\\nFinal weight:\", total_weight)\n",
    "print(\"Items in cargo:\", cargo)"
   ]
  },
  {
   "cell_type": "code",
   "execution_count": 26,
   "id": "78cc6f9b-a268-4945-aa2b-048a584acfba",
   "metadata": {},
   "outputs": [
    {
     "name": "stdout",
     "output_type": "stream",
     "text": [
      "range(5, 10) <class 'range'>\n",
      "range(0, 10) <class 'range'>\n",
      "range(0, 10, 2) <class 'range'>\n"
     ]
    }
   ],
   "source": [
    "five_to_nine = range(5, 10)\n",
    "to_ten = range(10)\n",
    "to_ten_with_two = range(0, 10, 2)\n",
    "\n",
    "print(five_to_nine, type(five_to_nine))\n",
    "print(to_ten, type(to_ten))\n",
    "print(to_ten_with_two, type(to_ten_with_two))"
   ]
  },
  {
   "cell_type": "code",
   "execution_count": 28,
   "id": "9250106b-fd1f-47fb-bcdb-69174dcc3f85",
   "metadata": {},
   "outputs": [
    {
     "name": "stdout",
     "output_type": "stream",
     "text": [
      "[5, 6, 7, 8, 9] (5, 6, 7, 8, 9)\n",
      "[0, 1, 2, 3, 4, 5, 6, 7, 8, 9] (0, 1, 2, 3, 4, 5, 6, 7, 8, 9)\n",
      "[0, 2, 4, 6, 8] (0, 2, 4, 6, 8)\n"
     ]
    }
   ],
   "source": [
    "print(list(five_to_nine), tuple(five_to_nine))\n",
    "print(list(to_ten), tuple(to_ten))\n",
    "print(list(to_ten_with_two), tuple(to_ten_with_two))"
   ]
  },
  {
   "cell_type": "code",
   "execution_count": 29,
   "id": "b86303eb-ae8d-4bbd-b19d-78054b4fc6ef",
   "metadata": {},
   "outputs": [
    {
     "name": "stdout",
     "output_type": "stream",
     "text": [
      "[0, 1, 2, 3, 4, 5, 6, 7, 8, 9, 10, 11, 12, 13, 14, 15, 16, 17, 18, 19, 20, 21, 22, 23, 24, 25, 26, 27, 28, 29, 30, 31, 32, 33, 34, 35, 36, 37, 38, 39, 40, 41, 42, 43, 44, 45, 46, 47, 48, 49, 50, 51, 52, 53, 54, 55, 56, 57, 58, 59, 60, 61, 62, 63, 64, 65, 66, 67, 68, 69, 70, 71, 72, 73, 74, 75, 76, 77, 78, 79, 80, 81, 82, 83, 84, 85, 86, 87, 88, 89, 90, 91, 92, 93, 94, 95, 96, 97, 98, 99, 100, 101, 102, 103, 104, 105, 106, 107, 108, 109, 110, 111, 112, 113, 114, 115, 116, 117, 118, 119, 120, 121, 122, 123, 124, 125, 126, 127, 128, 129, 130, 131, 132, 133, 134, 135, 136, 137, 138, 139, 140, 141, 142, 143, 144, 145, 146, 147, 148, 149, 150, 151, 152, 153, 154, 155, 156, 157, 158, 159, 160, 161, 162, 163, 164, 165, 166, 167, 168, 169, 170, 171, 172, 173, 174, 175, 176, 177, 178, 179, 180, 181, 182, 183, 184, 185, 186, 187, 188, 189, 190, 191, 192, 193, 194, 195, 196, 197, 198, 199, 200, 201, 202, 203, 204, 205, 206, 207, 208, 209, 210, 211, 212, 213, 214, 215, 216, 217, 218, 219, 220, 221, 222, 223, 224, 225, 226, 227, 228, 229, 230, 231, 232, 233, 234, 235, 236, 237, 238, 239, 240, 241, 242, 243, 244, 245, 246, 247, 248, 249, 250, 251, 252, 253, 254, 255, 256, 257, 258, 259, 260, 261, 262, 263, 264, 265, 266, 267, 268, 269, 270, 271, 272, 273, 274, 275, 276, 277, 278, 279, 280, 281, 282, 283, 284, 285, 286, 287, 288, 289, 290, 291, 292, 293, 294, 295, 296, 297, 298, 299, 300, 301, 302, 303, 304, 305, 306, 307, 308, 309, 310, 311, 312, 313, 314, 315, 316, 317, 318, 319, 320, 321, 322, 323, 324, 325, 326, 327, 328, 329, 330, 331, 332, 333, 334, 335, 336, 337, 338, 339, 340, 341, 342, 343, 344, 345, 346, 347, 348, 349, 350, 351, 352, 353, 354, 355, 356, 357, 358, 359, 360, 361, 362, 363, 364, 365, 366, 367, 368, 369, 370, 371, 372, 373, 374, 375, 376, 377, 378, 379, 380, 381, 382, 383, 384, 385, 386, 387, 388, 389, 390, 391, 392, 393, 394, 395, 396, 397, 398, 399, 400, 401, 402, 403, 404, 405, 406, 407, 408, 409, 410, 411, 412, 413, 414, 415, 416, 417, 418, 419, 420, 421, 422, 423, 424, 425, 426, 427, 428, 429, 430, 431, 432, 433, 434, 435, 436, 437, 438, 439, 440, 441, 442, 443, 444, 445, 446, 447, 448, 449, 450, 451, 452, 453, 454, 455, 456, 457, 458, 459, 460, 461, 462, 463, 464, 465, 466, 467, 468, 469, 470, 471, 472, 473, 474, 475, 476, 477, 478, 479, 480, 481, 482, 483, 484, 485, 486, 487, 488, 489, 490, 491, 492, 493, 494, 495, 496, 497, 498, 499, 500, 501, 502, 503, 504, 505, 506, 507, 508, 509, 510, 511, 512, 513, 514, 515, 516, 517, 518, 519, 520, 521, 522, 523, 524, 525, 526, 527, 528, 529, 530, 531, 532, 533, 534, 535, 536, 537, 538, 539, 540, 541, 542, 543, 544, 545, 546, 547, 548, 549, 550, 551, 552, 553, 554, 555, 556, 557, 558, 559, 560, 561, 562, 563, 564, 565, 566, 567, 568, 569, 570, 571, 572, 573, 574, 575, 576, 577, 578, 579, 580, 581, 582, 583, 584, 585, 586, 587, 588, 589, 590, 591, 592, 593, 594, 595, 596, 597, 598, 599, 600, 601, 602, 603, 604, 605, 606, 607, 608, 609, 610, 611, 612, 613, 614, 615, 616, 617, 618, 619, 620, 621, 622, 623, 624, 625, 626, 627, 628, 629, 630, 631, 632, 633, 634, 635, 636, 637, 638, 639, 640, 641, 642, 643, 644, 645, 646, 647, 648, 649, 650, 651, 652, 653, 654, 655, 656, 657, 658, 659, 660, 661, 662, 663, 664, 665, 666, 667, 668, 669, 670, 671, 672, 673, 674, 675, 676, 677, 678, 679, 680, 681, 682, 683, 684, 685, 686, 687, 688, 689, 690, 691, 692, 693, 694, 695, 696, 697, 698, 699, 700, 701, 702, 703, 704, 705, 706, 707, 708, 709, 710, 711, 712, 713, 714, 715, 716, 717, 718, 719, 720, 721, 722, 723, 724, 725, 726, 727, 728, 729, 730, 731, 732, 733, 734, 735, 736, 737, 738, 739, 740, 741, 742, 743, 744, 745, 746, 747, 748, 749, 750, 751, 752, 753, 754, 755, 756, 757, 758, 759, 760, 761, 762, 763, 764, 765, 766, 767, 768, 769, 770, 771, 772, 773, 774, 775, 776, 777, 778, 779, 780, 781, 782, 783, 784, 785, 786, 787, 788, 789, 790, 791, 792, 793, 794, 795, 796, 797, 798, 799, 800, 801, 802, 803, 804, 805, 806, 807, 808, 809, 810, 811, 812, 813, 814, 815, 816, 817, 818, 819, 820, 821, 822, 823, 824, 825, 826, 827, 828, 829, 830, 831, 832, 833, 834, 835, 836, 837, 838, 839, 840, 841, 842, 843, 844, 845, 846, 847, 848, 849, 850, 851, 852, 853, 854, 855, 856, 857, 858, 859, 860, 861, 862, 863, 864, 865, 866, 867, 868, 869, 870, 871, 872, 873, 874, 875, 876, 877, 878, 879, 880, 881, 882, 883, 884, 885, 886, 887, 888, 889, 890, 891, 892, 893, 894, 895, 896, 897, 898, 899, 900, 901, 902, 903, 904, 905, 906, 907, 908, 909, 910, 911, 912, 913, 914, 915, 916, 917, 918, 919, 920, 921, 922, 923, 924, 925, 926, 927, 928, 929, 930, 931, 932, 933, 934, 935, 936, 937, 938, 939, 940, 941, 942, 943, 944, 945, 946, 947, 948, 949, 950, 951, 952, 953, 954, 955, 956, 957, 958, 959, 960, 961, 962, 963, 964, 965, 966, 967, 968, 969, 970, 971, 972, 973, 974, 975, 976, 977, 978, 979, 980, 981, 982, 983, 984, 985, 986, 987, 988, 989, 990, 991, 992, 993, 994, 995, 996, 997, 998, 999] <class 'list'>\n"
     ]
    }
   ],
   "source": [
    "long_list_numbers = list(range(1000))\n",
    "print(long_list_numbers, type(long_list_numbers))"
   ]
  },
  {
   "cell_type": "code",
   "execution_count": null,
   "id": "0e6d62fe-13ef-4d85-a947-7a1e1e4b81c0",
   "metadata": {},
   "outputs": [],
   "source": [
    "#MODULARITY#\n",
    "#FUNGSI#\n",
    "#CARA MEMBUAT FUNGSI SENDIRI#"
   ]
  },
  {
   "cell_type": "code",
   "execution_count": 32,
   "id": "06bd8fdf-f48d-4420-a896-b61cb3554386",
   "metadata": {},
   "outputs": [],
   "source": [
    "def do_nothing():\n",
    "    pass"
   ]
  },
  {
   "cell_type": "code",
   "execution_count": 35,
   "id": "f0eb126f-babe-4d91-8c7b-ca660d04db40",
   "metadata": {},
   "outputs": [
    {
     "data": {
      "text/plain": [
       "function"
      ]
     },
     "execution_count": 35,
     "metadata": {},
     "output_type": "execute_result"
    }
   ],
   "source": [
    "do_nothing"
   ]
  },
  {
   "cell_type": "code",
   "execution_count": 38,
   "id": "8323546d-afbe-4fe5-a1f3-e00a117f8e11",
   "metadata": {},
   "outputs": [],
   "source": [
    "def make_sound():\n",
    "    print(\"Moo..\")"
   ]
  },
  {
   "cell_type": "code",
   "execution_count": 41,
   "id": "440ea88b-04d7-4dcc-869f-81c5d7151a2f",
   "metadata": {},
   "outputs": [
    {
     "name": "stdout",
     "output_type": "stream",
     "text": [
      "Moo..\n",
      "Moo..\n"
     ]
    }
   ],
   "source": [
    "make_sound()\n",
    "make_sound()"
   ]
  },
  {
   "cell_type": "code",
   "execution_count": 42,
   "id": "d8c60df6-df2b-4368-9483-b01c1e8c5c59",
   "metadata": {},
   "outputs": [],
   "source": [
    "def agree():\n",
    "    return True"
   ]
  },
  {
   "cell_type": "code",
   "execution_count": 43,
   "id": "8aa80ea1-6160-413e-ba3c-8e13b498cd92",
   "metadata": {},
   "outputs": [
    {
     "data": {
      "text/plain": [
       "True"
      ]
     },
     "execution_count": 43,
     "metadata": {},
     "output_type": "execute_result"
    }
   ],
   "source": [
    "agree()"
   ]
  },
  {
   "cell_type": "code",
   "execution_count": 48,
   "id": "3bc2c9b5-6bb1-46b2-ba34-9bde47f3f146",
   "metadata": {},
   "outputs": [],
   "source": [
    "def return_none():\n",
    "    return"
   ]
  },
  {
   "cell_type": "code",
   "execution_count": 49,
   "id": "68f0851e-d0be-472e-ad7c-3dac49c2f9a8",
   "metadata": {},
   "outputs": [
    {
     "name": "stdout",
     "output_type": "stream",
     "text": [
      "Moo..\n"
     ]
    }
   ],
   "source": [
    "sound = make_sound()\n",
    "is_agree = agree()\n",
    "none_value = return_none()"
   ]
  },
  {
   "cell_type": "code",
   "execution_count": 50,
   "id": "4f66d825-3425-4d38-952f-4965f6ed7ead",
   "metadata": {},
   "outputs": [
    {
     "name": "stdout",
     "output_type": "stream",
     "text": [
      "None\n",
      "True\n",
      "None\n"
     ]
    }
   ],
   "source": [
    "print(sound)\n",
    "\n",
    "print(is_agree)\n",
    "\n",
    "print(none_value)"
   ]
  },
  {
   "cell_type": "code",
   "execution_count": 51,
   "id": "6ed0a8f6-1232-4e79-a2fc-6cfd9f63ecf2",
   "metadata": {},
   "outputs": [
    {
     "name": "stdout",
     "output_type": "stream",
     "text": [
      "Awesome\n"
     ]
    }
   ],
   "source": [
    "if agree():\n",
    "    print(\"Awesome\")\n",
    "else:\n",
    "    print(\"Very unexpected\")"
   ]
  },
  {
   "cell_type": "code",
   "execution_count": 56,
   "id": "3756aad1-5ce0-40c1-aa91-d07905f3c000",
   "metadata": {},
   "outputs": [],
   "source": [
    "def cylinder_volume(radius, height):\n",
    "    pi = 3.14\n",
    "    return pi * height * radius ** 2"
   ]
  },
  {
   "cell_type": "code",
   "execution_count": 57,
   "id": "d2885189-975e-4def-b174-24adda31ed1d",
   "metadata": {},
   "outputs": [
    {
     "name": "stdout",
     "output_type": "stream",
     "text": [
      "cylinder volume: 942.0\n"
     ]
    }
   ],
   "source": [
    "volume = cylinder_volume(10, 3)\n",
    "print(\"cylinder volume:\", volume)"
   ]
  },
  {
   "cell_type": "code",
   "execution_count": 58,
   "id": "ef209750-349f-4528-be7a-bfbf5737fdd1",
   "metadata": {},
   "outputs": [
    {
     "name": "stdout",
     "output_type": "stream",
     "text": [
      "cylinder_volume 3.14\n"
     ]
    }
   ],
   "source": [
    "print(\"cylinder_volume\", cylinder_volume(1, 1))"
   ]
  },
  {
   "cell_type": "code",
   "execution_count": 71,
   "id": "67d1b07f-62ad-44ab-b4fc-e3d12fbf0180",
   "metadata": {},
   "outputs": [],
   "source": [
    "def commentary(color):\n",
    "    if color == \"red\":\n",
    "        comment = \"Its a tomato\"\n",
    "    elif color == \"green\":\n",
    "        comment = \"its a green pepper\"\n",
    "    elif color == \"bees\":\n",
    "        comment = \"Idk what it is, but looks like a bee\"\n",
    "    else:\n",
    "        comment = \"ive never heard of the color\" + color + \"before\"\n",
    "        \n",
    "    return comment"
   ]
  },
  {
   "cell_type": "code",
   "execution_count": 73,
   "id": "a55d00a2-ba07-408a-94c7-21e972a519a0",
   "metadata": {},
   "outputs": [],
   "source": [
    "def commentary(color):\n",
    "    if color == \"red\":\n",
    "        return \"its a tomato\"\n",
    "    \n",
    "    if color == \"green\":\n",
    "        return \"its a green pepper\"\n",
    "    \n",
    "    if color == \"bees\":\n",
    "        return \"idk what it is, but looks like a bee\"\n",
    "    return \"I've never heard of the color\" + color + \"before\""
   ]
  },
  {
   "cell_type": "code",
   "execution_count": 76,
   "id": "3dac65c2-f188-4353-80f7-b9a36144ad5f",
   "metadata": {},
   "outputs": [
    {
     "name": "stdout",
     "output_type": "stream",
     "text": [
      "6.28\n"
     ]
    }
   ],
   "source": [
    "r = 1      #POSITIONAL ARGUMEN FOR RADIUS\n",
    "h = 2      #POSITIONAL ARGUMEN FOR HEIGHT\n",
    "\n",
    "v = cylinder_volume(r, h)\n",
    "print(v)"
   ]
  },
  {
   "cell_type": "code",
   "execution_count": 78,
   "id": "50f5a665-45bc-4513-9a3c-eacf03b833a7",
   "metadata": {},
   "outputs": [],
   "source": [
    "def echo (anything):\n",
    "    return anything + \" \" + anything"
   ]
  },
  {
   "cell_type": "code",
   "execution_count": 80,
   "id": "eb03328f-875d-46b9-a1d1-2906647ca7d5",
   "metadata": {},
   "outputs": [
    {
     "data": {
      "text/plain": [
       "'Python Python'"
      ]
     },
     "execution_count": 80,
     "metadata": {},
     "output_type": "execute_result"
    }
   ],
   "source": [
    "text = \"Python\"\n",
    "echo(text)"
   ]
  },
  {
   "cell_type": "code",
   "execution_count": 95,
   "id": "06549a57-1ab3-47cd-996e-4f4554a5308e",
   "metadata": {},
   "outputs": [],
   "source": [
    "#KEYWORD ARGUMEN\n",
    "\n",
    "def is_bounded(x, lower, upper):\n",
    "    print(\"{} <= {} <= {}\".format(lower, x , upper))\n",
    "    return lower <= x <= upper"
   ]
  },
  {
   "cell_type": "code",
   "execution_count": 90,
   "id": "95bf2496-0c77-4b9e-8c3d-a08d36042109",
   "metadata": {},
   "outputs": [
    {
     "name": "stdout",
     "output_type": "stream",
     "text": [
      "3 <= 2 <= 4\n"
     ]
    },
    {
     "data": {
      "text/plain": [
       "False"
      ]
     },
     "execution_count": 90,
     "metadata": {},
     "output_type": "execute_result"
    }
   ],
   "source": [
    "is_bounded(2, 3, 4)"
   ]
  },
  {
   "cell_type": "code",
   "execution_count": 92,
   "id": "38dc2acc-ad64-4f7b-8a81-f88e316d95f3",
   "metadata": {},
   "outputs": [
    {
     "name": "stdout",
     "output_type": "stream",
     "text": [
      "1 <= 5 <= 10\n"
     ]
    },
    {
     "data": {
      "text/plain": [
       "True"
      ]
     },
     "execution_count": 92,
     "metadata": {},
     "output_type": "execute_result"
    }
   ],
   "source": [
    "is_bounded(5, 1, 10)"
   ]
  },
  {
   "cell_type": "code",
   "execution_count": 2,
   "id": "37b2571d-51c4-414a-8a1a-eba1ca062c19",
   "metadata": {},
   "outputs": [],
   "source": [
    "def readable_timedelta(days):\n",
    "    return"
   ]
  },
  {
   "cell_type": "code",
   "execution_count": 16,
   "id": "4f387521-f2ac-4876-9b10-371198fffc2b",
   "metadata": {},
   "outputs": [
    {
     "name": "stdout",
     "output_type": "stream",
     "text": [
      "52 week(s) and 1 day(s)\n"
     ]
    }
   ],
   "source": [
    "def readable_timedelta(days):\n",
    "    number_of_weeks = days // 7\n",
    "    reminder_days = days % 7\n",
    "    \n",
    "    #IF WTIHIN 1 WEEK\n",
    "    if  days < 7:\n",
    "        return \"{} day(s)\". format(reminder_days)\n",
    "    \n",
    "    #IF DAYS % 7 == 0\n",
    "    if reminder_days == 0:\n",
    "        return \"{} week(s)\".format(number_of_weeks)\n",
    "\n",
    "    return \"{} week(s) and {} day(s)\".format(number_of_weeks, reminder_days)\n",
    "\n",
    "print(readable_timedelta(365))"
   ]
  },
  {
   "cell_type": "code",
   "execution_count": 1,
   "id": "9b4f1b89-bbb7-48e2-95f0-bf36eec0de53",
   "metadata": {},
   "outputs": [],
   "source": [
    "class ProductList: \n",
    "    \"\"\"Product status.\"\"\"\n",
    "    def __init__(self, product_list):\n",
    "        # check to make sure product_list is a list\n",
    "        # if not an instance of list, then show error\n",
    "        if not isinstance(product_list, list):\n",
    "            raise TypeError(\"Product list must be a list.\")\n",
    "        self.available_product = product_list\n",
    "        self.sold_product = []\n",
    "\n",
    "    def show_available_product(self):\n",
    "        prefix = \"Available products:\"\n",
    "        string_product = [\"- {}\".format(product) for product in self.available_product]\n",
    "        string_product = \"\\n\".join(string_product)\n",
    "        print(prefix, string_product, sep=\"\\n\")\n",
    "\n",
    "    def show_sold_product(self):\n",
    "        prefix = \"Sold products:\"\n",
    "        string_product = [\"- {}\".format(product) for product in self.sold_product]\n",
    "        string_product = \"\\n\".join(string_product)\n",
    "        print(prefix, string_product, sep=\"\\n\")\n",
    "\n",
    "    def sold(self, product_name):\n",
    "        if product_name not in self.available_product:\n",
    "            return \"{} is already not in our product listing\".format(product_name)\n",
    "        product_idx = self.available_product.index(product_name)\n",
    "        # remove sold product from available_product\n",
    "        self.available_product.pop(product_idx)\n",
    "        # add sold product to sold_product\n",
    "        self.sold_product.append(product_name)"
   ]
  },
  {
   "cell_type": "code",
   "execution_count": 2,
   "id": "8481bb9a-eea5-452e-9198-b5f727af0826",
   "metadata": {},
   "outputs": [],
   "source": [
    "product_list = ProductList([\"chiki\", \"popcorn\", \"pizza\"])"
   ]
  },
  {
   "cell_type": "code",
   "execution_count": 6,
   "id": "e9b5423d-3dcf-4acf-8e57-1e62ef7628d9",
   "metadata": {},
   "outputs": [
    {
     "name": "stdout",
     "output_type": "stream",
     "text": [
      "Available products:\n",
      "- chiki\n",
      "- popcorn\n"
     ]
    }
   ],
   "source": [
    "product_list.sold(\"pizza\")\n",
    "product_list.show_available_product()"
   ]
  },
  {
   "cell_type": "code",
   "execution_count": 4,
   "id": "863e20a8-6ba2-4b22-9504-a4d1ac6e8c54",
   "metadata": {},
   "outputs": [
    {
     "name": "stdout",
     "output_type": "stream",
     "text": [
      "Sold products:\n",
      "- pizza\n"
     ]
    }
   ],
   "source": [
    "product_list.show_sold_product()"
   ]
  },
  {
   "cell_type": "code",
   "execution_count": 5,
   "id": "88de8b73-abe2-4c21-b7b8-416ec169d36d",
   "metadata": {},
   "outputs": [
    {
     "data": {
      "text/plain": [
       "['pizza']"
      ]
     },
     "execution_count": 5,
     "metadata": {},
     "output_type": "execute_result"
    }
   ],
   "source": [
    "product_list.sold_product"
   ]
  },
  {
   "cell_type": "code",
   "execution_count": 11,
   "id": "a597f06b-b6ac-4baf-82fd-2ec183b6eb91",
   "metadata": {},
   "outputs": [
    {
     "data": {
      "text/plain": [
       "'1 week(s) and 3 day(s)'"
      ]
     },
     "execution_count": 11,
     "metadata": {},
     "output_type": "execute_result"
    }
   ],
   "source": [
    "def readable_days(days):\n",
    "    return \"{} day(s)\".format(days)\n",
    "\n",
    "def readable_weeks(weeks):\n",
    "    return \"{} week(s)\".format(weeks)\n",
    "\n",
    "def readable_timedelta(days):\n",
    "    number_of_weeks = days // 7\n",
    "    reminder_days = days % 7\n",
    "    \n",
    "    days = readable_days(reminder_days)\n",
    "    weeks = readable_weeks(number_of_weeks)\n",
    "    \n",
    "    return weeks + \" and \" + days\n",
    "\n",
    "readable_timedelta(10)"
   ]
  },
  {
   "cell_type": "code",
   "execution_count": 20,
   "id": "7a3c75db-365b-477e-88ea-a9d215916f58",
   "metadata": {},
   "outputs": [],
   "source": [
    "def readable_timedelta_for_return(n_days, func_days=None, func_weeks=None):\n",
    "    for days in range(n_days):\n",
    "        number_of_weeks = days // 7\n",
    "        remainder_days = days % 7\n",
    "\n",
    "        if not func_days:\n",
    "            func_days = readable_days\n",
    "        \n",
    "        if not func_weeks:\n",
    "            func_weeks = readable_week\n",
    "\n",
    "        days = func_days(remainder_days)\n",
    "        weeks = func_weeks(number_of_weeks)\n",
    "\n",
    "    return weeks + \" and \" + days"
   ]
  },
  {
   "cell_type": "code",
   "execution_count": 21,
   "id": "4dee1e94-687e-48e6-9216-9eebfeab7598",
   "metadata": {},
   "outputs": [
    {
     "data": {
      "text/plain": [
       "'1 week(s) and 2 day(s)'"
      ]
     },
     "execution_count": 21,
     "metadata": {},
     "output_type": "execute_result"
    }
   ],
   "source": [
    "readable_timedelta_for_return(10)"
   ]
  },
  {
   "cell_type": "code",
   "execution_count": 22,
   "id": "321c1784-5246-456d-8b15-b22697773aa9",
   "metadata": {},
   "outputs": [],
   "source": [
    "import password"
   ]
  },
  {
   "cell_type": "code",
   "execution_count": 26,
   "id": "4c413c2b-3abe-4bb5-a94d-b13cc6d35e99",
   "metadata": {},
   "outputs": [
    {
     "name": "stdout",
     "output_type": "stream",
     "text": [
      "whathadsister\n"
     ]
    }
   ],
   "source": [
    "pw = password.generate_password(3)\n",
    "print(pw)"
   ]
  },
  {
   "cell_type": "code",
   "execution_count": null,
   "id": "5c310f97-42a4-4997-a178-63b421200c21",
   "metadata": {},
   "outputs": [],
   "source": []
  }
 ],
 "metadata": {
  "kernelspec": {
   "display_name": "Python 3 (ipykernel)",
   "language": "python",
   "name": "python3"
  },
  "language_info": {
   "codemirror_mode": {
    "name": "ipython",
    "version": 3
   },
   "file_extension": ".py",
   "mimetype": "text/x-python",
   "name": "python",
   "nbconvert_exporter": "python",
   "pygments_lexer": "ipython3",
   "version": "3.9.7"
  }
 },
 "nbformat": 4,
 "nbformat_minor": 5
}
