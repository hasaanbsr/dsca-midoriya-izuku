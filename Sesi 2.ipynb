{
 "cells": [
  {
   "cell_type": "code",
   "execution_count": 71,
   "id": "2221461c-793d-4aab-88b0-59832638f8a0",
   "metadata": {},
   "outputs": [
    {
     "name": "stdout",
     "output_type": "stream",
     "text": [
      "Length of empty_list var: 0 []\n",
      "Length of last 5 years: 5 [2016, 2017, 2018, 2019, 2020]\n"
     ]
    }
   ],
   "source": [
    "empty_list = []\n",
    "last_5_years = [2016 , 2017, 2018, 2019, 2020]\n",
    "last_mix = [200, 2.25, \"bitlabs\", False, -2, 8+1, -2.0]\n",
    "\n",
    "print(\"Length of empty_list var:\", len(empty_list), empty_list)\n",
    "print(\"Length of last 5 years:\", len(last_5_years), last_5_years)"
   ]
  },
  {
   "cell_type": "code",
   "execution_count": 75,
   "id": "5b94f843-8137-4381-826f-b1d8f87e460d",
   "metadata": {},
   "outputs": [
    {
     "name": "stdout",
     "output_type": "stream",
     "text": [
      "['b', 'i', 't', 'l', 'a', 'b', 's']\n"
     ]
    }
   ],
   "source": [
    "print(list(\"bitlabs\"))"
   ]
  },
  {
   "cell_type": "code",
   "execution_count": 82,
   "id": "00acd314-dbf0-498d-b81d-5ecc44452de5",
   "metadata": {},
   "outputs": [
    {
     "name": "stdout",
     "output_type": "stream",
     "text": [
      "My grade last 5 years: 5 [80, 71, 75, 90, 72]\n"
     ]
    }
   ],
   "source": [
    "my_grade_5_years = [80, 71, 75, 90, 72]\n",
    "print(\"My grade last 5 years:\", len(my_grade_5_years), my_grade_5_years)"
   ]
  },
  {
   "cell_type": "code",
   "execution_count": 76,
   "id": "2e99ea5f-834b-4a25-9a00-b17efeb7d725",
   "metadata": {},
   "outputs": [
    {
     "name": "stdout",
     "output_type": "stream",
     "text": [
      "Numbers less than ten: ['0', '1', '2', '3', '4', '5', '6', '7', '8', '9']\n",
      "Descending order: ['9', '8', '7', '6', '5', '4', '3', '2', '1', '0']\n",
      "0bit1bit2bit3bit4bit5bit6bit7bit8bit9\n"
     ]
    }
   ],
   "source": [
    "less_than_ten = [\"0\", \"1\", \"2\", \"3\", \"4\", \"5\", \"6\", \"7\", \"8\", \"9\"]\n",
    "print(\"Numbers less than ten:\", less_than_ten)\n",
    "\n",
    "reverse_less_than_ten = sorted(less_than_ten, reverse=True)\n",
    "print(\"Descending order:\", reverse_less_than_ten)\n",
    "\n",
    "text_bit = \"bit\"\n",
    "text_bit_ten = text_bit.join(less_than_ten)\n",
    "print(text_bit_ten)"
   ]
  },
  {
   "cell_type": "code",
   "execution_count": 39,
   "id": "05142b0a-2bd1-4003-a640-912923c487b8",
   "metadata": {},
   "outputs": [
    {
     "name": "stdout",
     "output_type": "stream",
     "text": [
      "['john', 'Andrew', 'Sebastian', 'Josh']\n",
      "['john', 'Andrew', 'Sebastian', 'Josh']\n",
      "['john', 'Andrew', 'Sebastian', 'Josh']\n",
      "['john', 'Andrew', 'Sebastian', 'Josh']\n",
      "['Andrew', 'Sebastian', 'Josh']\n",
      "\n",
      "['john', 'Andrew']\n",
      "['john', 'Sebastian']\n"
     ]
    }
   ],
   "source": [
    "names = [\"john\", \"Andrew\", \"Sebastian\", \"Josh\"]\n",
    "print(names)\n",
    "print(names[0:4])\n",
    "print(names[0: ])\n",
    "print(names[-4: ])\n",
    "print(names[-3: ])\n",
    "print()\n",
    "print(names[0:2])\n",
    "print(names[0::2])"
   ]
  },
  {
   "cell_type": "code",
   "execution_count": 94,
   "id": "587eafd1-5c6a-443a-a753-d3e85706acf2",
   "metadata": {},
   "outputs": [
    {
     "name": "stdout",
     "output_type": "stream",
     "text": [
      "Tanggal dengan tahun genap: ['December 4, 2002', 'March 29, 2004', 'July 22, 2006', 'November 13, 2008', 'March 9, 2010']\n",
      "Tanggal dengan tahun ganjil: ['June 21, 2001', 'August 23, 2003', 'August 1, 2005', 'July 11, 2007', 'March 20, 2009']\n"
     ]
    }
   ],
   "source": [
    "#INDEXINF AND SLICING#\n",
    "\n",
    "random_dates = ['June 21, 2001', 'December 4, 2002', 'August 23, 2003',\n",
    "                'March 29, 2004', 'August 1, 2005', 'July 22, 2006',\n",
    "                'July 11, 2007', 'November 13, 2008', 'March 20, 2009',\n",
    "                'March 9, 2010']\n",
    "\n",
    "print(\"Tanggal dengan tahun genap:\", random_dates[1: :2])\n",
    "print(\"Tanggal dengan tahun ganjil:\", random_dates[0: : 2])"
   ]
  },
  {
   "cell_type": "code",
   "execution_count": 61,
   "id": "9f2ac7e8-7186-40d1-bff2-4c7bea2756fe",
   "metadata": {},
   "outputs": [
    {
     "name": "stdout",
     "output_type": "stream",
     "text": [
      "['januari', 'februari', 'march']\n"
     ]
    }
   ],
   "source": [
    "first_quarter_months = [\"januari\", \"februari\", \"march\"]\n",
    "print(first_quarter_months)"
   ]
  },
  {
   "cell_type": "code",
   "execution_count": null,
   "id": "f0fc8f6c-6850-40a5-8f70-d0560eca9eaf",
   "metadata": {},
   "outputs": [],
   "source": [
    "set_is_unique = {1, 2, 3, 4 ,5, 1}\n",
    "list_isnt_unique = "
   ]
  },
  {
   "cell_type": "code",
   "execution_count": 66,
   "id": "d49a8626-e9ed-4bb2-a5d0-13753afb2c0b",
   "metadata": {},
   "outputs": [
    {
     "name": "stdout",
     "output_type": "stream",
     "text": [
      "female names: {'Kate', 'Sue', 'Marry', 'Lee'}\n",
      "male names {'Eric', 'Tom', 'Adam', 'Lee'}\n",
      "all names: {'Kate', 'Adam', 'Tom', 'Sue', 'Eric', 'Marry', 'Lee'}\n"
     ]
    }
   ],
   "source": [
    "female_names = {\"Sue\", \"Marry\" , \"Kate\", \"Lee\"}\n",
    "male_names = {\"Eric\", \"Lee\", \"Tom\", \"Adam\"}\n",
    "print(\"female names:\", female_names)\n",
    "print(\"male names\", male_names)\n",
    "\n",
    "all_names = female_names.union(male_names)\n",
    "print(\"all names:\", all_names)"
   ]
  },
  {
   "cell_type": "code",
   "execution_count": 68,
   "id": "df12a4e7-971b-4214-9fec-a8fd3bd9fbe9",
   "metadata": {},
   "outputs": [],
   "source": [
    "names = [\"john\", \"stuart\", \"kevin\"]\n",
    "wights = [166, 188, 172]"
   ]
  },
  {
   "cell_type": "code",
   "execution_count": 73,
   "id": "fad3b09a-99dc-4616-a184-d875f4ef129c",
   "metadata": {},
   "outputs": [
    {
     "name": "stdout",
     "output_type": "stream",
     "text": [
      "masih sama satu baris di buku yang sama\n"
     ]
    }
   ],
   "source": [
    "oneline = \"masih sama \" \\\n",
    "          \"satu baris \" \\\n",
    "          \"di buku yang sama\"\n",
    "print(oneline)"
   ]
  },
  {
   "cell_type": "code",
   "execution_count": 79,
   "id": "e809aea9-901b-406c-80ee-7d794835f848",
   "metadata": {},
   "outputs": [
    {
     "name": "stdout",
     "output_type": "stream",
     "text": [
      "Lets buy a comic\n"
     ]
    }
   ],
   "source": [
    "money = 50000\n",
    "comic_price = 20000\n",
    "\n",
    "if money >= comic_price:\n",
    "    print(\"Lets buy a comic\")"
   ]
  },
  {
   "cell_type": "code",
   "execution_count": 90,
   "id": "765a701f-7948-4436-86a3-8629d21bfcaf",
   "metadata": {},
   "outputs": [],
   "source": [
    "money = 10000\n",
    "is_enough_money = money >= comic_price\n",
    "\n",
    "if is_enough_money:\n",
    "    print(\"lets buy a comic\")"
   ]
  },
  {
   "cell_type": "code",
   "execution_count": 104,
   "id": "0dd23feb-7d3d-4a56-b617-64437263c4f0",
   "metadata": {},
   "outputs": [
    {
     "name": "stdout",
     "output_type": "stream",
     "text": [
      "lets buy a comic\n",
      "bought one\n",
      "terima kasih sudah datang!\n"
     ]
    }
   ],
   "source": [
    "money = 100000\n",
    "\n",
    "if money >= comic_price:\n",
    "    print(\"lets buy a comic\")\n",
    "    print(\"bought one\")\n",
    "else:\n",
    "    print(\"lets go home and colletc more money\")\n",
    "print(\"terima kasih sudah datang!\")"
   ]
  },
  {
   "cell_type": "code",
   "execution_count": null,
   "id": "0703db7b-1f36-4176-8e40-9056f54a87c6",
   "metadata": {},
   "outputs": [],
   "source": [
    "money = 50000\n",
    "if (money >= 20000) and (money , 75000)\n",
    "    print(\"lets buy a comic\")\n",
    "else:\n",
    "    if (money >= 75000) and (money < 75000)\n",
    "    else\n",
    "        if money >= 100000"
   ]
  },
  {
   "cell_type": "code",
   "execution_count": 115,
   "id": "8d2e7b0a-687f-4589-acd8-5ffec69e73eb",
   "metadata": {},
   "outputs": [
    {
     "name": "stdout",
     "output_type": "stream",
     "text": [
      "yup! lets buy the expensive magazine!\n"
     ]
    }
   ],
   "source": [
    "money = 200000\n",
    "\n",
    "if (money >= 20000) and (money < 75000):\n",
    "    print(\"Lets buy a comic\")\n",
    "elif (money >= 75000) and (money < 100000):\n",
    "    print(\"lets buy a brand new novel\")\n",
    "elif (money >= 100000):\n",
    "    print(\"yup! lets buy the expensive magazine!\")\n",
    "else:\n",
    "    print(\"lets go home and colect more money\")"
   ]
  },
  {
   "cell_type": "code",
   "execution_count": 134,
   "id": "0d3a61ea-f9aa-4015-87c1-2e35b1e3f029",
   "metadata": {},
   "outputs": [
    {
     "name": "stdout",
     "output_type": "stream",
     "text": [
      "pulang aja dah\n"
     ]
    }
   ],
   "source": [
    "money = 10000\n",
    "\n",
    "if (money >= 20000) and (money < 50000):\n",
    "    print(\"jangan ke cafe\")\n",
    "elif (money >= 50000) and (money < 90000):\n",
    "    print(\"pergi ke angkringan\")\n",
    "elif (money > 100000):\n",
    "    print(\"berangkut!\")\n",
    "else:\n",
    "    print(\"pulang aja dah\")"
   ]
  },
  {
   "cell_type": "code",
   "execution_count": 162,
   "id": "4ac79df7-63dd-48c4-a6c3-9f0d6dd036e9",
   "metadata": {},
   "outputs": [
    {
     "name": "stdout",
     "output_type": "stream",
     "text": [
      "Pulang aje dah\n"
     ]
    }
   ],
   "source": [
    "money = 100000\n",
    "dugem = 50000\n",
    "\n",
    "if (money < dugem):\n",
    "    print(\"Berangkat\")\n",
    "else:\n",
    "    print(\"Pulang aje dah\")"
   ]
  },
  {
   "cell_type": "code",
   "execution_count": 65,
   "id": "95cb3205-491f-4c30-9437-5482b089e88f",
   "metadata": {},
   "outputs": [
    {
     "name": "stdout",
     "output_type": "stream",
     "text": [
      "untung ada elemennya!\n"
     ]
    }
   ],
   "source": [
    "points = 50\n",
    "\n",
    "if (points >= 1) and (points <= 200):\n",
    "    print(\"untung ada elemennya!\")\n",
    "else:\n",
    "    print(bool, (\"Sayang sekali, tidak ada elemen disini\"))"
   ]
  },
  {
   "cell_type": "code",
   "execution_count": 78,
   "id": "ce929cc1-9077-4207-b9c6-a62b5f5b98e4",
   "metadata": {},
   "outputs": [
    {
     "name": "stdout",
     "output_type": "stream",
     "text": [
      "I got penguin, so lucky!\n"
     ]
    }
   ],
   "source": [
    "points = 190\n",
    "\n",
    "if (points >= 1) and (points <= 50):\n",
    "    print(\"I got wooden rabbit!\")\n",
    "elif (points >= 51) and (points <= 150):\n",
    "    print(\"i gpt no prize, so sad\")\n",
    "elif (points >= 151) and (points <= 180):\n",
    "    print(\" i gor wafer-thin mint, wtf is this?\")\n",
    "elif (points >= 181) and (points <= 200):\n",
    "    print(\"I got penguin, so lucky!\")\n",
    "else:\n",
    "    print(\"sorry, no elemen in here\")"
   ]
  },
  {
   "cell_type": "code",
   "execution_count": 45,
   "id": "4fafbedc-179d-49af-94b0-d222c0e674ad",
   "metadata": {},
   "outputs": [
    {
     "name": "stdout",
     "output_type": "stream",
     "text": [
      "{'Udin': 160, 'Adul': 167, 'Tatang': 175}\n",
      "{'Udin': 160, 'Adul': 167, 'Tatang': 175} <class 'dict'>\n"
     ]
    }
   ],
   "source": [
    "height = {\"Udin\" : 160, \"Adul\" :167, \"Tatang\" : 175}\n",
    "print(height)\n",
    "print(height, type(height))"
   ]
  },
  {
   "cell_type": "code",
   "execution_count": 47,
   "id": "f6ddca78-78e3-4054-872f-1767280211ef",
   "metadata": {},
   "outputs": [
    {
     "name": "stdout",
     "output_type": "stream",
     "text": [
      "160\n",
      "167\n",
      "175\n"
     ]
    }
   ],
   "source": [
    "print(height[\"Udin\"])\n",
    "print(height[\"Adul\"])\n",
    "print(height[\"Tatang\"])"
   ]
  },
  {
   "cell_type": "code",
   "execution_count": 63,
   "id": "cbc28369-760c-4fae-ba6b-c6ad430e9d4e",
   "metadata": {},
   "outputs": [
    {
     "name": "stdout",
     "output_type": "stream",
     "text": [
      "{'Jakarta': 20.8, 'Surabaya': 18.2, 'Bandung': 15.1, 'Semarang': 12.3}\n",
      "Jakarta: 20.8\n",
      "Surabaya: 18.2\n",
      "Bandung: 15.1\n",
      "Semarang: 12.3\n"
     ]
    }
   ],
   "source": [
    "population = {\"Jakarta\" : 20.8, \"Surabaya\" : 18.2, \"Bandung\" : 15.1, \"Semarang\" : 12.3}\n",
    "\n",
    "functioanl_dict = dict(Jakarta=20.8, Surabaya=18.2, Bandung=15.1, Semarang=12.3)\n",
    "\n",
    "print(population)\n",
    "print(\"Jakarta:\", population[\"Jakarta\"])\n",
    "print(\"Surabaya:\", population[\"Surabaya\"])\n",
    "print(\"Bandung:\", population[\"Bandung\"])\n",
    "print(\"Semarang:\", population[\"Semarang\"])"
   ]
  },
  {
   "cell_type": "code",
   "execution_count": 118,
   "id": "0025db90-fc79-475c-a2ee-4875eff8df93",
   "metadata": {},
   "outputs": [
    {
     "name": "stdout",
     "output_type": "stream",
     "text": [
      "Male Names: {'Blek', 'Arip', 'Kana', 'Egol', 'Tile', 'Dio'}\n",
      "Female Names {'Rafaela', 'Miya', 'Angela', 'Kana', 'Selena', 'Ami'}\n",
      "All Names: {'Rafaela', 'Miya', 'Angela', 'Selena', 'Ami', 'Blek', 'Arip', 'Kana', 'Egol', 'Tile', 'Dio'}\n",
      "Male & Female Names: {'Kana'}\n",
      "only females name: {'Rafaela', 'Miya', 'Angela', 'Selena', 'Ami'}\n",
      "only male names {'Blek', 'Arip', 'Egol', 'Tile', 'Dio'}\n"
     ]
    }
   ],
   "source": [
    "#MENDEFINISIKAN SET DENGAN {}#\n",
    "male_names = {\"Tile\", \"Blek\", \"Dio\", \"Arip\", \"Egol\", \"Kana\"}\n",
    "female_names = {\"Ami\", \"Angela\", \"Rafaela\", \"Selena\", \"Miya\", \"Kana\"}\n",
    "\n",
    "print(\"Male Names:\", male_names)\n",
    "print(\"Female Names\", female_names)\n",
    "\n",
    "all_names = female_names.union(male_names)\n",
    "print(\"All Names:\", all_names)\n",
    "\n",
    "print(\"Male & Female Names:\", female_names.intersection(female_names, male_names))\n",
    "\n",
    "only_males = male_names.difference(female_names)\n",
    "only_females = female_names.difference(male_names)\n",
    "print(\"only females name:\", only_females)\n",
    "print(\"only male names\", only_males)\n"
   ]
  },
  {
   "cell_type": "code",
   "execution_count": 7,
   "id": "062b934b-1027-42d7-b188-5dc4608cdc5f",
   "metadata": {},
   "outputs": [
    {
     "name": "stdout",
     "output_type": "stream",
     "text": [
      "Found DSCA00121 in . DSCA0012120 is valid!\n"
     ]
    }
   ],
   "source": [
    "ids = \"DSCA0012120\"\n",
    "batch_prefix = \"DSCA00121\"\n",
    "if batch_prefix in ids:\n",
    "    print(\"Found {} in . {} is valid!\".format(batch_prefix, ids, ids))\n",
    "else:\n",
    "    print(\"Not found {}. {} is not valid!\".format(batch_prefix, ids))"
   ]
  },
  {
   "cell_type": "code",
   "execution_count": 8,
   "id": "dd846286-be99-44a6-91f3-5ba2b266c84b",
   "metadata": {},
   "outputs": [
    {
     "name": "stdout",
     "output_type": "stream",
     "text": [
      "Name: Blek\n",
      "Name: Arip\n",
      "Name: Kana\n",
      "Name: Egol\n",
      "Name: Tile\n",
      "Name: Dio\n"
     ]
    }
   ],
   "source": [
    "#WHILE#\n",
    "\n",
    "names = [\"Blek\", \"Arip\", \"Kana\", \"Egol\", \"Tile\", \"Dio\"]\n",
    "num_names = len(names)\n",
    "idx = 0\n",
    "\n",
    "while idx < num_names:\n",
    "    print(\"Name:\", names[idx])\n",
    "    idx +=1\n"
   ]
  },
  {
   "cell_type": "code",
   "execution_count": null,
   "id": "8b4d49c2-3842-4a20-a2d7-be9e642952a1",
   "metadata": {},
   "outputs": [],
   "source": [
    "char_limit = 150\n",
    "headlines = [\"Pemprov DKI Perpanjang PPKM Mikro hingga 14 Juni\",\n",
    "             \"Manchester City Dekati Sergio Ramos\",\n",
    "             \"8 Juta Dosis Vaksin Sinovac Tiba di Tanah Air\",\n",
    "             \"10 Potret Kece Tatjana Saphira Berkacamata, Stylish Banget!\",]\n",
    "long_headlines = \" \".join(headlines)[:char_limit]\n",
    "print(long_headlines)\n",
    "\n",
    "index = 0\n",
    "new_long_headlines = \"\"\n",
    "\n",
    "while index < len(headlines):\n",
    "    print(\"Headlines:\", headlines[index])\n",
    "    index += 1"
   ]
  },
  {
   "cell_type": "code",
   "execution_count": null,
   "id": "98e3a8d9-9e50-4bda-b5f6-f67f77039b62",
   "metadata": {},
   "outputs": [],
   "source": [
    "for name in names:\n",
    "    print(name)"
   ]
  },
  {
   "cell_type": "code",
   "execution_count": null,
   "id": "4cb753d0-afb3-4ea3-870c-8feab44f08d2",
   "metadata": {},
   "outputs": [],
   "source": [
    "purchased_product = {\"computer\": 3, \"chesees\": 10, \"dog kennels\": 5, \"bananas\": 20}\n"
   ]
  }
 ],
 "metadata": {
  "kernelspec": {
   "display_name": "Python 3 (ipykernel)",
   "language": "python",
   "name": "python3"
  },
  "language_info": {
   "codemirror_mode": {
    "name": "ipython",
    "version": 3
   },
   "file_extension": ".py",
   "mimetype": "text/x-python",
   "name": "python",
   "nbconvert_exporter": "python",
   "pygments_lexer": "ipython3",
   "version": "3.9.7"
  }
 },
 "nbformat": 4,
 "nbformat_minor": 5
}
