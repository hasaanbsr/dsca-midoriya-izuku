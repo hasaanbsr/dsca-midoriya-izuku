{
 "cells": [
  {
   "cell_type": "code",
   "execution_count": 26,
   "id": "daf7476c-2697-4d69-8651-0fdc05bde737",
   "metadata": {},
   "outputs": [],
   "source": [
    "def is_bounded(x, lower=1, upper=10):\n",
    "    print(\"{} <=  {} <= {}\".format(lower, x, upper))\n",
    "    return lower <= x <= upper"
   ]
  },
  {
   "cell_type": "code",
   "execution_count": 27,
   "id": "dd0a65de-35f0-4c70-b58f-92f92b4003f0",
   "metadata": {},
   "outputs": [
    {
     "name": "stdout",
     "output_type": "stream",
     "text": [
      "1 <=  2 <= 10\n",
      "1 <=  5 <= 10\n",
      "True\n"
     ]
    }
   ],
   "source": [
    "is_bounded(2)\n",
    "print(is_bounded(5))"
   ]
  },
  {
   "cell_type": "code",
   "execution_count": 35,
   "id": "09446e37-7395-4ecd-b232-c4abc76e09f9",
   "metadata": {},
   "outputs": [],
   "source": [
    "def func(*var):\n",
    "    return var, type(var)"
   ]
  },
  {
   "cell_type": "code",
   "execution_count": 36,
   "id": "53dd7bb5-0a4d-46e4-a443-e35307af070c",
   "metadata": {},
   "outputs": [
    {
     "data": {
      "text/plain": [
       "((), tuple)"
      ]
     },
     "execution_count": 36,
     "metadata": {},
     "output_type": "execute_result"
    }
   ],
   "source": [
    "func()"
   ]
  },
  {
   "cell_type": "code",
   "execution_count": 37,
   "id": "4a11f6aa-ab5d-4f28-a0ba-52d7ab15c3f8",
   "metadata": {},
   "outputs": [
    {
     "data": {
      "text/plain": [
       "((4,), tuple)"
      ]
     },
     "execution_count": 37,
     "metadata": {},
     "output_type": "execute_result"
    }
   ],
   "source": [
    "func(4)"
   ]
  },
  {
   "cell_type": "code",
   "execution_count": 57,
   "id": "4b2fa73f-1e9c-4501-ba1e-d65c7c8fdb7e",
   "metadata": {},
   "outputs": [],
   "source": [
    "def do_mean(prefix, *data, suffix, x, y):\n",
    "    print(\"prefix\", prefix)\n",
    "    print(\"suffix\", suffix)\n",
    "    print(\"x:\", x)\n",
    "    print(\"y:\", y)\n",
    "    \n",
    "    if len(data):\n",
    "        return sum(data) / len(data)\n",
    "    return \"no data provided\""
   ]
  },
  {
   "cell_type": "code",
   "execution_count": 48,
   "id": "47ae3eb3-1d3b-4367-9c1f-95b6c5a6bf52",
   "metadata": {},
   "outputs": [
    {
     "name": "stdout",
     "output_type": "stream",
     "text": [
      "<function do_mean at 0x000001B0D46CC820>\n"
     ]
    }
   ],
   "source": [
    "print(do_mean)"
   ]
  },
  {
   "cell_type": "code",
   "execution_count": 47,
   "id": "97fbd42b-de97-4690-b1be-c46cdbe314de",
   "metadata": {},
   "outputs": [],
   "source": [
    "prefix: 100\n",
    "suffix: 50"
   ]
  },
  {
   "cell_type": "code",
   "execution_count": 58,
   "id": "decccc99-02be-47f1-9aaf-626edd401fcd",
   "metadata": {},
   "outputs": [
    {
     "name": "stdout",
     "output_type": "stream",
     "text": [
      "prefix 1\n",
      "suffix 2\n",
      "x: 1\n",
      "y: 2\n"
     ]
    },
    {
     "data": {
      "text/plain": [
       "'no data provided'"
      ]
     },
     "execution_count": 58,
     "metadata": {},
     "output_type": "execute_result"
    }
   ],
   "source": [
    "do_mean(1, suffix=2, x=1, y=2)"
   ]
  },
  {
   "cell_type": "code",
   "execution_count": 59,
   "id": "581d45e7-3d6a-4d87-b56a-8801cd5ce3bf",
   "metadata": {},
   "outputs": [],
   "source": [
    "def extend(sequence, *args):\n",
    "    for arg in args:\n",
    "        sequence.append(arg)\n",
    "    return sequence"
   ]
  },
  {
   "cell_type": "code",
   "execution_count": 71,
   "id": "475c78af-7c9f-4467-b8b5-ec020bb18c5e",
   "metadata": {},
   "outputs": [
    {
     "name": "stdout",
     "output_type": "stream",
     "text": [
      "['josh', 'lj', 'rekt', 'putra', 'oji', 'didi']\n"
     ]
    }
   ],
   "source": [
    "names = [\"josh\", \"lj\", \"rekt\"]\n",
    "extend(names, \"putra\", \"oji\", \"didi\")\n",
    "\n",
    "print(names)"
   ]
  },
  {
   "cell_type": "code",
   "execution_count": 72,
   "id": "6b4e7fd4-6252-40dd-ac60-226267a397c0",
   "metadata": {},
   "outputs": [
    {
     "data": {
      "text/plain": [
       "['josh', 'lj', 'rekt', 'putra', 'oji', 'didi', 1, 2, 3]"
      ]
     },
     "execution_count": 72,
     "metadata": {},
     "output_type": "execute_result"
    }
   ],
   "source": [
    "extend(names, 1, 2, 3)"
   ]
  },
  {
   "cell_type": "code",
   "execution_count": 74,
   "id": "9cdc2db6-7a39-4471-a13c-b7d5d103a80c",
   "metadata": {},
   "outputs": [],
   "source": [
    "def func(**kwargs):\n",
    "    return kwargs"
   ]
  },
  {
   "cell_type": "code",
   "execution_count": 75,
   "id": "aa0ce609-f70b-436b-a455-f146461effde",
   "metadata": {},
   "outputs": [
    {
     "data": {
      "text/plain": [
       "{'name': 'bitlanbs', 'rank': 1, 'another': 'another'}"
      ]
     },
     "execution_count": 75,
     "metadata": {},
     "output_type": "execute_result"
    }
   ],
   "source": [
    "func(name=\"bitlanbs\", rank=1, another=\"another\")"
   ]
  },
  {
   "cell_type": "code",
   "execution_count": 77,
   "id": "badf0a23-5efb-4314-9f08-cb3b384d2707",
   "metadata": {},
   "outputs": [],
   "source": [
    "def func(x, y, *args, **kwargs):\n",
    "    print(x)\n",
    "    print(y)\n",
    "    print(args)\n",
    "    print(kwargs)"
   ]
  },
  {
   "cell_type": "code",
   "execution_count": 4,
   "id": "05ca9d6d-eafe-4f7d-bb8e-5930df6825fd",
   "metadata": {},
   "outputs": [],
   "source": [
    "def is_bounded(x=2, lower=1, upper=10):\n",
    "    \"\"\"check wheter lower <= x <= upper.\n",
    "    \n",
    "    return:\n",
    "        bool: True if lower <= x <= upper, False otherwise\n",
    "    \"\"\"\n",
    "    print(\"{} <=  {} <= {}\".format(lower, x, upper))\n",
    "    return lower <= x <= upper"
   ]
  },
  {
   "cell_type": "code",
   "execution_count": 5,
   "id": "8cb9bfcd-450f-45c8-9211-ca1949e6a6ef",
   "metadata": {},
   "outputs": [
    {
     "name": "stdout",
     "output_type": "stream",
     "text": [
      "1 <=  2 <= 10\n"
     ]
    },
    {
     "data": {
      "text/plain": [
       "True"
      ]
     },
     "execution_count": 5,
     "metadata": {},
     "output_type": "execute_result"
    }
   ],
   "source": [
    "is_bounded()"
   ]
  },
  {
   "cell_type": "code",
   "execution_count": 89,
   "id": "9fe2e98d-0e28-4f4c-8c83-067947061921",
   "metadata": {},
   "outputs": [],
   "source": [
    "x = 10\n",
    "y = 100"
   ]
  },
  {
   "cell_type": "code",
   "execution_count": 90,
   "id": "7516d6b2-e880-4ddf-bfe6-4641a2539d7d",
   "metadata": {},
   "outputs": [
    {
     "name": "stdout",
     "output_type": "stream",
     "text": [
      "10\n",
      "100\n",
      "()\n",
      "{}\n"
     ]
    }
   ],
   "source": [
    "func(x, y)"
   ]
  },
  {
   "cell_type": "code",
   "execution_count": 92,
   "id": "c6796d81-5f9a-408c-8cc7-9937ab3839a0",
   "metadata": {},
   "outputs": [],
   "source": [
    "x += y"
   ]
  },
  {
   "cell_type": "code",
   "execution_count": 105,
   "id": "ad2171c1-9177-4f0d-af54-f5d6fa80d70a",
   "metadata": {},
   "outputs": [
    {
     "name": "stdout",
     "output_type": "stream",
     "text": [
      "Z: 500\n"
     ]
    }
   ],
   "source": [
    "def scope(x, y):\n",
    "    z = x * y\n",
    "    return z * 10\n",
    "\n",
    "z = scope(5, 10)\n",
    "print(\"Z:\", z)"
   ]
  },
  {
   "cell_type": "code",
   "execution_count": 109,
   "id": "94be3d94-e400-4b60-bb79-dd5fc2aa6b66",
   "metadata": {},
   "outputs": [
    {
     "name": "stdout",
     "output_type": "stream",
     "text": [
      "total: 45\n"
     ]
    }
   ],
   "source": [
    "def scope(x, y):\n",
    "    zz = 10\n",
    "    z = x * y\n",
    "    \n",
    "    def sum(x,y):\n",
    "        return x - y\n",
    "    return z + sum(x,y)\n",
    "\n",
    "total = scope(5, 10)\n",
    "print (\"total:\", total)"
   ]
  },
  {
   "cell_type": "code",
   "execution_count": 110,
   "id": "67ee8112-cb4c-448e-849b-1eccb01455b9",
   "metadata": {},
   "outputs": [],
   "source": [
    "# CLASS \n",
    "\n",
    "class Cat:\n",
    "    pass"
   ]
  },
  {
   "cell_type": "code",
   "execution_count": 112,
   "id": "1fd3c54c-0a35-4286-ac32-caf4610b5bb0",
   "metadata": {},
   "outputs": [
    {
     "name": "stdout",
     "output_type": "stream",
     "text": [
      "<__main__.Cat object at 0x000001B0D47D1250> <class '__main__.Cat'>\n"
     ]
    }
   ],
   "source": [
    "persian = Cat()\n",
    "scottish_fold = Cat()\n",
    "\n",
    "print(persian, type(persian))"
   ]
  },
  {
   "cell_type": "code",
   "execution_count": 113,
   "id": "67ef6f60-522a-4e03-930d-0ed45a78f8e9",
   "metadata": {},
   "outputs": [],
   "source": [
    "persian.kind = \"persian\"\n",
    "scottish_fold.kind = \"scottish fold\""
   ]
  },
  {
   "cell_type": "code",
   "execution_count": 117,
   "id": "6579f57f-7870-4d57-8768-8e43af4500af",
   "metadata": {},
   "outputs": [
    {
     "name": "stdout",
     "output_type": "stream",
     "text": [
      "Kind of cat: persian\n"
     ]
    }
   ],
   "source": [
    "print(\"Kind of cat:\", persian.kind)"
   ]
  },
  {
   "cell_type": "code",
   "execution_count": 118,
   "id": "13d07aac-87af-4f9a-80e2-249683e91cf4",
   "metadata": {},
   "outputs": [],
   "source": [
    "class Cat:\n",
    "    num_feet = 4"
   ]
  },
  {
   "cell_type": "code",
   "execution_count": 122,
   "id": "a49f0fe5-ae1a-42c2-bf1e-ef85369db4d9",
   "metadata": {},
   "outputs": [
    {
     "name": "stdout",
     "output_type": "stream",
     "text": [
      "4\n"
     ]
    }
   ],
   "source": [
    "persian = Cat()\n",
    "persian.kind = \"persian\"\n",
    "\n",
    "print(persian.num_feet)"
   ]
  },
  {
   "cell_type": "code",
   "execution_count": 123,
   "id": "feebc11b-1abe-49d8-aea7-7432e06ed15b",
   "metadata": {},
   "outputs": [],
   "source": [
    "class Cat:\n",
    "    def __init__(self):\n",
    "        pass"
   ]
  },
  {
   "cell_type": "code",
   "execution_count": 124,
   "id": "4b411140-27e1-438a-a57f-f9b4931f9ce9",
   "metadata": {},
   "outputs": [],
   "source": [
    "class Cat:\n",
    "    \"\"\"Cat class.\"\"\"\n",
    "    def __init__(self, name, kind=\"persian\"):\n",
    "        self.kind = kind\n",
    "        self.name = name\n",
    "        \n",
    "    def sound(self):\n",
    "        return \"Meoow\"\n",
    "    "
   ]
  },
  {
   "cell_type": "code",
   "execution_count": 126,
   "id": "255e4d69-2d66-45fb-aacd-d085f02074a0",
   "metadata": {},
   "outputs": [
    {
     "name": "stdout",
     "output_type": "stream",
     "text": [
      "Molly is a persian cat. She sound like Meoow..\n",
      "Ben is a bengal cat. He sound like Meoow..\n"
     ]
    }
   ],
   "source": [
    "persian = Cat(\"Molly\")\n",
    "bengal = Cat(\"Ben\", kind=\"bengal\")\n",
    "\n",
    "print(\"{} is a {} cat. She sound like {}..\".format(persian.name, persian.kind, persian.sound()))\n",
    "print(\"{} is a {} cat. He sound like {}..\".format(bengal.name, bengal.kind, bengal.sound()))"
   ]
  },
  {
   "cell_type": "code",
   "execution_count": 127,
   "id": "277b758b-8e5b-49b2-a3cd-e0ac3989ba35",
   "metadata": {},
   "outputs": [],
   "source": [
    "class Cat:\n",
    "    \"\"\"Define a cat.\"\"\"\n",
    "    def __init__(self, name, food, kind=\"persian\", gender=\"male\"):\n",
    "        \"\"\"Initiate a cat.\n",
    "        \n",
    "        Args:\n",
    "            name: cat's name\n",
    "            food: cat's food\n",
    "            kind: cat breed. By default is persian.\n",
    "            gender: male/female. By default is male.\n",
    "        \"\"\"\n",
    "        self.name = name\n",
    "        self.food = food\n",
    "        self.kind = kind\n",
    "        self.is_male = True if gender == \"male\" else False\n",
    "\n",
    "    def sound(self):\n",
    "        return \"meow..\"\n",
    "\n",
    "    def eat(self, food):\n",
    "        \"\"\"Eat a given food.\"\"\"\n",
    "        if food == self.food:\n",
    "            return \"Yeay! it's {}. Time to eat!\".format(food)\n",
    "        return \"Oh no, it's {}. Only {}, please.\".format(food, self.food)\n",
    "\n",
    "    def greet_person(self, person):\n",
    "        \"\"\"Greet a given person.\"\"\"\n",
    "        return \"Hi, {}! nice to meet you.\".format(person)\n",
    "\n",
    "    def greet_cat(self, another_cat):\n",
    "        \"\"\"Greet another cat.\"\"\"\n",
    "        looks = \"handsome\" if another_cat.is_male else \"beautiful\"\n",
    "        return \"Hi, {}! You look {}\".format(another_cat.name, looks)"
   ]
  },
  {
   "cell_type": "code",
   "execution_count": 128,
   "id": "bfed2513-2f10-45d8-9586-253104ed3986",
   "metadata": {},
   "outputs": [],
   "source": [
    "molly = Cat(\"Molly\", food=\"fish\")\n",
    "ben = Cat(\"Ben\", food=\"pizza\", kind=\"bengal\", gender=\"non-binary\")"
   ]
  },
  {
   "cell_type": "code",
   "execution_count": 129,
   "id": "06ab60a3-7ae3-4171-a9a8-061798bbb888",
   "metadata": {},
   "outputs": [
    {
     "name": "stdout",
     "output_type": "stream",
     "text": [
      "name: Molly\n",
      "breed: persian\n",
      "gender: male\n",
      "favorite food: fish\n",
      "Hi, john! nice to meet you.\n",
      "Hi, Ben! You look beautiful\n"
     ]
    }
   ],
   "source": [
    "print(\"name:\", molly.name)\n",
    "print(\"breed:\", molly.kind)\n",
    "print(\"gender:\", \"male\" if molly.is_male else \"female\")\n",
    "print(\"favorite food:\", molly.food)\n",
    "print(molly.greet_person(\"john\"))\n",
    "print(molly.greet_cat(ben))"
   ]
  },
  {
   "cell_type": "code",
   "execution_count": 130,
   "id": "69216142-a2cc-4a58-8f80-e2ee2558ce39",
   "metadata": {},
   "outputs": [
    {
     "name": "stdout",
     "output_type": "stream",
     "text": [
      "name: Ben\n",
      "breed: bengal\n",
      "gender: female\n",
      "favorite food: pizza\n",
      "Hi, anna! nice to meet you.\n",
      "Hi, Molly! You look handsome\n"
     ]
    }
   ],
   "source": [
    "print(\"name:\", ben.name)\n",
    "print(\"breed:\", ben.kind)\n",
    "print(\"gender:\", \"male\" if ben.is_male else \"female\")\n",
    "print(\"favorite food:\", ben.food)\n",
    "print(ben.greet_person(\"anna\"))\n",
    "print(ben.greet_cat(molly))"
   ]
  },
  {
   "cell_type": "code",
   "execution_count": 131,
   "id": "99f60f33-cf73-4370-8c0d-b25699d96bac",
   "metadata": {},
   "outputs": [
    {
     "name": "stdout",
     "output_type": "stream",
     "text": [
      "Oh no, it's pizza. Only fish, please.\n"
     ]
    }
   ],
   "source": [
    "print(molly.eat(\"pizza\"))"
   ]
  },
  {
   "cell_type": "code",
   "execution_count": 132,
   "id": "fe9d2f99-f995-4ebf-ac4e-c64759ef740a",
   "metadata": {},
   "outputs": [
    {
     "name": "stdout",
     "output_type": "stream",
     "text": [
      "Oh no, it's tacos. Only pizza, please.\n"
     ]
    }
   ],
   "source": [
    "print(ben.eat(\"tacos\"))"
   ]
  },
  {
   "cell_type": "code",
   "execution_count": 133,
   "id": "4761c043-17dc-4dea-bad9-4875060107e7",
   "metadata": {},
   "outputs": [],
   "source": [
    "class Productlist:\n",
    "    pass"
   ]
  },
  {
   "cell_type": "code",
   "execution_count": null,
   "id": "7fd5b0f9-97f9-4974-af46-1a819ea9874e",
   "metadata": {},
   "outputs": [],
   "source": []
  }
 ],
 "metadata": {
  "kernelspec": {
   "display_name": "Python 3 (ipykernel)",
   "language": "python",
   "name": "python3"
  },
  "language_info": {
   "codemirror_mode": {
    "name": "ipython",
    "version": 3
   },
   "file_extension": ".py",
   "mimetype": "text/x-python",
   "name": "python",
   "nbconvert_exporter": "python",
   "pygments_lexer": "ipython3",
   "version": "3.9.7"
  }
 },
 "nbformat": 4,
 "nbformat_minor": 5
}
